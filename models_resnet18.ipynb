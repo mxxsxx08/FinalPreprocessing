{
  "cells": [
    {
      "cell_type": "markdown",
      "metadata": {
        "id": "view-in-github",
        "colab_type": "text"
      },
      "source": [
        "<a href=\"https://colab.research.google.com/github/mxxsxx08/FinalPreprocessing/blob/main/models_resnet18.ipynb\" target=\"_parent\"><img src=\"https://colab.research.google.com/assets/colab-badge.svg\" alt=\"Open In Colab\"/></a>"
      ]
    },
    {
      "cell_type": "markdown",
      "metadata": {
        "id": "6BlyDo21eF5j"
      },
      "source": [
        "# 1. Import"
      ]
    },
    {
      "cell_type": "code",
      "execution_count": 2,
      "metadata": {
        "colab": {
          "base_uri": "https://localhost:8080/"
        },
        "id": "S5F7CmREeI6H",
        "outputId": "e067b018-01de-47ab-9b87-8908bda1fab9"
      },
      "outputs": [
        {
          "output_type": "stream",
          "name": "stdout",
          "text": [
            "/kaggle/input/mimiciii\n"
          ]
        }
      ],
      "source": [
        "import pandas as pd\n",
        "from sklearn.model_selection import KFold\n",
        "from sklearn.linear_model import LogisticRegression\n",
        "from sklearn.tree import DecisionTreeClassifier\n",
        "from sklearn.ensemble import RandomForestClassifier\n",
        "from xgboost import XGBClassifier\n",
        "from sklearn.naive_bayes import GaussianNB\n",
        "import lightgbm as lgb\n",
        "from sklearn.model_selection import cross_val_score\n",
        "from sklearn.metrics import roc_auc_score, confusion_matrix, classification_report, f1_score\n",
        "import numpy as np\n",
        "import time\n",
        "import warnings\n",
        "warnings.filterwarnings('ignore')\n",
        "import kagglehub\n",
        "path = kagglehub.dataset_download(\"asjad99/mimiciii\")\n",
        "print(path)\n",
        "import torch\n",
        "import torch.nn as nn\n",
        "import torch.optim as optim\n",
        "from torch.utils.data import DataLoader, TensorDataset\n",
        "from sklearn.model_selection import train_test_split\n",
        "import numpy as np\n",
        "from sklearn.preprocessing import LabelEncoder\n",
        "from sklearn.metrics import accuracy_score, f1_score, roc_curve, roc_auc_score\n",
        "import matplotlib.pyplot as plt"
      ]
    },
    {
      "cell_type": "code",
      "execution_count": 3,
      "metadata": {
        "id": "jXx-EW_LvFqj"
      },
      "outputs": [],
      "source": [
        "#!pip install --upgrade --force-reinstall torch torchvision torchaudio"
      ]
    },
    {
      "cell_type": "code",
      "execution_count": 4,
      "metadata": {
        "id": "Y33TQb-VeMyS"
      },
      "outputs": [],
      "source": [
        "df_PATIENTS = pd.read_csv('/kaggle/input/mimiciii/mimic-iii-clinical-database-demo-1.4/PATIENTS.csv')\n",
        "df_CHARTEVENTS = pd.read_csv('/kaggle/input/mimiciii/mimic-iii-clinical-database-demo-1.4/CHARTEVENTS.csv')\n",
        "df_ADMISSIONS = pd.read_csv('/kaggle/input/mimiciii/mimic-iii-clinical-database-demo-1.4/ADMISSIONS.csv')\n",
        "df_D_ITEMS = pd.read_csv('/kaggle/input/mimiciii/mimic-iii-clinical-database-demo-1.4/D_ITEMS.csv')\n",
        "\n",
        "df_ADMISSIONS = df_ADMISSIONS[df_ADMISSIONS['subject_id'] != 10120]\n",
        "df_PATIENTS = df_PATIENTS[df_PATIENTS['subject_id'] != 10120]\n",
        "\n",
        "df_PATIENTS = df_PATIENTS.loc[:,['subject_id','gender']]"
      ]
    },
    {
      "cell_type": "markdown",
      "metadata": {
        "id": "OVbBvCEwePer"
      },
      "source": [
        "# 2. 전처리\n"
      ]
    },
    {
      "cell_type": "code",
      "execution_count": 6,
      "metadata": {
        "id": "7tLViPFGeWyG"
      },
      "outputs": [],
      "source": [
        "df_CHARTEVENTS['value'] = pd.to_numeric(df_CHARTEVENTS['value'], errors='coerce')\n",
        "df_pivot = df_CHARTEVENTS[df_CHARTEVENTS['itemid'].isin([211, 618, 646])].loc[:,['subject_id','itemid','value','charttime']]\\\n",
        ".pivot_table(\n",
        "    index=['subject_id', 'charttime'],\n",
        "    columns='itemid',\n",
        "    values='value'\n",
        ").reset_index()\n",
        "df_pivot = df_pivot.sort_values(by=['subject_id', 'charttime'])\n",
        "df_pivot = df_pivot.rename(columns={211: 'Heart_Rate', 618: 'Resp_Rate', 646: 'SpO2'})\n",
        "\n",
        "# NAN 채우기\n",
        "# 각 subject_id별 평균 구하기\n",
        "subject_means = df_pivot.groupby(\"subject_id\")[[\"Heart_Rate\", \"Resp_Rate\", \"SpO2\"]].transform(\"mean\")\n",
        "\n",
        "# NaN 값을 각 subject의 평균으로 채우기\n",
        "df_pivot_filled = df_pivot.copy()\n",
        "df_pivot_filled[[\"Heart_Rate\", \"Resp_Rate\", \"SpO2\"]] = df_pivot[[\"Heart_Rate\", \"Resp_Rate\", \"SpO2\"]].fillna(subject_means)\n",
        "\n",
        "# datetime 형식으로 변환\n",
        "df_pivot_filled['charttime'] = pd.to_datetime(df_pivot_filled['charttime'])\n",
        "\n",
        "df_ADMISSIONS_flag = df_ADMISSIONS.loc[:,['subject_id','hospital_expire_flag']]\n",
        "\n",
        "# 조인\n",
        "df_merged = pd.merge(df_pivot_filled, df_ADMISSIONS_flag, on='subject_id', how='left')"
      ]
    },
    {
      "cell_type": "code",
      "execution_count": 7,
      "metadata": {
        "id": "n74JZPNseZJs"
      },
      "outputs": [],
      "source": [
        "df_ADMISSIONS_select = df_ADMISSIONS.loc[:,['subject_id','admission_type','admission_location','discharge_location',\n",
        "                     'insurance','marital_status','ethnicity','diagnosis','hospital_expire_flag']]\n",
        "\n",
        "df_ADMISSIONS_select_s = pd.merge(df_PATIENTS, df_ADMISSIONS_select, on='subject_id', how='left').drop(['hospital_expire_flag'],axis=1)\n",
        "df_mgd = pd.merge(df_merged, df_ADMISSIONS_select_s, on='subject_id', how='left')\n",
        "df_mgd['charttime'] = pd.to_datetime(df_mgd['charttime'])\n",
        "df_mgd = df_mgd.drop(['charttime','Heart_Rate','Resp_Rate','SpO2'],axis=1)"
      ]
    },
    {
      "cell_type": "code",
      "execution_count": 8,
      "metadata": {
        "id": "5UW-EndarSBB"
      },
      "outputs": [],
      "source": [
        "import torchvision.models as models\n",
        "\n",
        "# 정적 컬럼 지정\n",
        "static_cols = [\n",
        "    'gender', 'admission_type', 'admission_location', 'discharge_location',\n",
        "    'insurance', 'marital_status', 'ethnicity'\n",
        "]\n",
        "target_col = 'hospital_expire_flag'\n",
        "\n",
        "# 원본 정적 데이터\n",
        "df_static = df_mgd[static_cols + [target_col]].copy()\n",
        "\n",
        "# 라벨 인코딩 (문자형 → 숫자)\n",
        "label_encoders = {}\n",
        "for col in static_cols:\n",
        "    le = LabelEncoder()\n",
        "    df_static[col] = df_static[col].fillna('UNKNOWN')\n",
        "    df_static[col] = le.fit_transform(df_static[col])\n",
        "    label_encoders[col] = le\n",
        "\n",
        "# 입력과 타겟 분리\n",
        "X = df_static[static_cols].values\n",
        "y = df_static[target_col].values\n",
        "\n",
        "# 패딩 후 2D reshape: CNN 입력용 (1, 4, 4)\n",
        "if X.shape[1] < 16:\n",
        "    X = np.pad(X, ((0, 0), (0, 16 - X.shape[1])), mode='constant')\n",
        "\n",
        "X_cnn = X.reshape(-1, 1, 4, 4)\n",
        "X_cnn = np.repeat(X_cnn, 3, axis=1)\n",
        "\n",
        "X_tensor = torch.tensor(X_cnn, dtype=torch.float32)\n",
        "y_tensor = torch.tensor(y, dtype=torch.float32).unsqueeze(1)\n",
        "\n",
        "X_train, X_val, y_train, y_val = train_test_split(X_tensor, y_tensor, test_size=0.2, random_state=42)\n",
        "\n",
        "model = models.resnet18(pretrained=False)\n",
        "model.fc = nn.Sequential(\n",
        "    nn.Linear(model.fc.in_features, 1),\n",
        "    nn.Sigmoid()\n",
        ")"
      ]
    },
    {
      "cell_type": "markdown",
      "metadata": {
        "id": "E9yTAI70ecqb"
      },
      "source": [
        "# 3. 모델\n"
      ]
    },
    {
      "cell_type": "code",
      "execution_count": 9,
      "metadata": {
        "colab": {
          "base_uri": "https://localhost:8080/",
          "height": 972
        },
        "id": "f3sC4G4NxUPT",
        "outputId": "82e6d62b-6a2e-41b2-f5a8-80e8f0cc7ed8"
      },
      "outputs": [
        {
          "output_type": "stream",
          "name": "stdout",
          "text": [
            "Epoch 1 | Train Loss: 0.3758\n",
            "Epoch 2 | Train Loss: 0.3308\n",
            "Epoch 3 | Train Loss: 0.3334\n",
            "Epoch 4 | Train Loss: 0.3089\n",
            "Epoch 5 | Train Loss: 0.2869\n",
            "Epoch 6 | Train Loss: 0.2834\n",
            "Epoch 7 | Train Loss: 0.2915\n",
            "Epoch 8 | Train Loss: 0.2865\n",
            "Epoch 9 | Train Loss: 0.2744\n",
            "Epoch 10 | Train Loss: 0.2742\n",
            "Epoch 11 | Train Loss: 0.2741\n",
            "Epoch 12 | Train Loss: 0.2852\n",
            "Epoch 13 | Train Loss: 0.2857\n",
            "Epoch 14 | Train Loss: 0.2691\n",
            "Epoch 15 | Train Loss: 0.2620\n",
            "Epoch 16 | Train Loss: 0.2668\n",
            "Epoch 17 | Train Loss: 0.2721\n",
            "Epoch 18 | Train Loss: 0.2684\n",
            "Epoch 19 | Train Loss: 0.2562\n",
            "Epoch 20 | Train Loss: 0.2616\n"
          ]
        },
        {
          "output_type": "display_data",
          "data": {
            "text/plain": [
              "<Figure size 600x600 with 1 Axes>"
            ],
            "image/png": "[encoded data removed]"
          },
          "metadata": {}
        },
        {
          "output_type": "stream",
          "name": "stdout",
          "text": [
            "✅ Accuracy: 0.8160\n",
            "✅ F1 Score: 0.7908\n"
          ]
        }
      ],
      "source": [
        "train_loader = DataLoader(TensorDataset(X_train, y_train), batch_size=16, shuffle=True)\n",
        "val_loader = DataLoader(TensorDataset(X_val, y_val), batch_size=16)\n",
        "\n",
        "criterion = nn.BCELoss()\n",
        "optimizer = optim.Adam(model.parameters(), lr=0.001)\n",
        "\n",
        "# 학습 루프\n",
        "for epoch in range(20):\n",
        "    model.train()\n",
        "    train_loss = 0\n",
        "    for xb, yb in train_loader:\n",
        "        optimizer.zero_grad()\n",
        "        pred = model(xb)\n",
        "        loss = criterion(pred, yb)\n",
        "        loss.backward()\n",
        "        optimizer.step()\n",
        "        train_loss += loss.item()\n",
        "    print(f\"Epoch {epoch+1} | Train Loss: {train_loss / len(train_loader):.4f}\")\n",
        "\n",
        "# 검증 데이터로 예측\n",
        "model.eval()\n",
        "with torch.no_grad():\n",
        "    y_pred = model(X_val).numpy()  # 예측 확률\n",
        "    y_true = y_val.numpy()         # 실제 정답\n",
        "    y_pred_label = (y_pred > 0.5).astype(int)  # 확률 → 0 또는 1\n",
        "\n",
        "# 평가 지표 출력\n",
        "acc = accuracy_score(y_true, y_pred_label)\n",
        "f1 = f1_score(y_true, y_pred_label)\n",
        "\n",
        "model.eval()\n",
        "with torch.no_grad():\n",
        "    y_pred = model(X_val).numpy()\n",
        "    y_true = y_val.numpy()\n",
        "    y_pred_label = (y_pred > 0.5).astype(int)\n",
        "\n",
        "# ROC Curve\n",
        "fpr, tpr, thresholds = roc_curve(y_true, y_pred)\n",
        "auc = roc_auc_score(y_true, y_pred)\n",
        "\n",
        "plt.figure(figsize=(6, 6))\n",
        "plt.plot(fpr, tpr, label=f\"AUC = {auc:.4f}\")\n",
        "plt.plot([0, 1], [0, 1], linestyle='--', color='gray')\n",
        "plt.xlabel(\"False Positive Rate\")\n",
        "plt.ylabel(\"True Positive Rate\")\n",
        "plt.title(\"ROC Curve\")\n",
        "plt.legend()\n",
        "plt.grid(True)\n",
        "plt.show()\n",
        "\n",
        "print(f\"✅ Accuracy: {acc:.4f}\")\n",
        "print(f\"✅ F1 Score: {f1:.4f}\")"
      ]
    }
  ],
  "metadata": {
    "colab": {
      "provenance": [],
      "include_colab_link": true
    },
    "kernelspec": {
      "display_name": "Python 3",
      "name": "python3"
    },
    "language_info": {
      "name": "python"
    }
  },
  "nbformat": 4,
  "nbformat_minor": 0
}